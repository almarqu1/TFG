{
 "cells": [
  {
   "cell_type": "code",
   "execution_count": 2,
   "id": "2f8ef59c",
   "metadata": {},
   "outputs": [],
   "source": [
    "import pandas as pd\n",
    "import numpy as np\n",
    "import matplotlib.pyplot as plt\n",
    "import seaborn as sns\n",
    "import ast\n",
    "import os\n",
    "from collections import Counter "
   ]
  },
  {
   "cell_type": "code",
   "execution_count": 3,
   "id": "e70430a5",
   "metadata": {},
   "outputs": [],
   "source": [
    "cvs_df = pd.read_csv('../data/00_raw/datasetJobs2/mappings/skills.csv')"
   ]
  },
  {
   "cell_type": "code",
   "execution_count": 5,
   "id": "3982ea81",
   "metadata": {},
   "outputs": [
    {
     "data": {
      "text/plain": [
       "0               Art/Creative\n",
       "1                     Design\n",
       "2                Advertising\n",
       "3         Product Management\n",
       "4               Distribution\n",
       "5                  Education\n",
       "6                   Training\n",
       "7         Project Management\n",
       "8                 Consulting\n",
       "9                 Purchasing\n",
       "10              Supply Chain\n",
       "11                   Analyst\n",
       "12      Health Care Provider\n",
       "13                  Research\n",
       "14                   Science\n",
       "15          General Business\n",
       "16          Customer Service\n",
       "17         Strategy/Planning\n",
       "18                   Finance\n",
       "19                     Other\n",
       "20                     Legal\n",
       "21               Engineering\n",
       "22         Quality Assurance\n",
       "23      Business Development\n",
       "24    Information Technology\n",
       "25            Administrative\n",
       "26                Production\n",
       "27                 Marketing\n",
       "28          Public Relations\n",
       "29           Writing/Editing\n",
       "30       Accounting/Auditing\n",
       "31           Human Resources\n",
       "32             Manufacturing\n",
       "33                     Sales\n",
       "34                Management\n",
       "Name: skill_name, dtype: object"
      ]
     },
     "execution_count": 5,
     "metadata": {},
     "output_type": "execute_result"
    }
   ],
   "source": [
    "cvs_df['skill_name']"
   ]
  }
 ],
 "metadata": {
  "kernelspec": {
   "display_name": "venv",
   "language": "python",
   "name": "python3"
  },
  "language_info": {
   "codemirror_mode": {
    "name": "ipython",
    "version": 3
   },
   "file_extension": ".py",
   "mimetype": "text/x-python",
   "name": "python",
   "nbconvert_exporter": "python",
   "pygments_lexer": "ipython3",
   "version": "3.12.10"
  }
 },
 "nbformat": 4,
 "nbformat_minor": 5
}
