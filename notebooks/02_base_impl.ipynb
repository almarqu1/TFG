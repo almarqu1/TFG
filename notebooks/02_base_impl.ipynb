{
 "cells": [
  {
   "cell_type": "code",
   "execution_count": 2,
   "id": "129137ac",
   "metadata": {},
   "outputs": [
    {
     "name": "stderr",
     "output_type": "stream",
     "text": [
      "c:\\Users\\zveng\\Desktop\\TFG\\venv\\Lib\\site-packages\\huggingface_hub\\file_download.py:143: UserWarning: `huggingface_hub` cache-system uses symlinks by default to efficiently store duplicated files but your machine does not support them in C:\\Users\\zveng\\.cache\\huggingface\\hub\\models--sentence-transformers--all-MiniLM-L6-v2. Caching files will still work but in a degraded version that might require more space on your disk. This warning can be disabled by setting the `HF_HUB_DISABLE_SYMLINKS_WARNING` environment variable. For more details, see https://huggingface.co/docs/huggingface_hub/how-to-cache#limitations.\n",
      "To support symlinks on Windows, you either need to activate Developer Mode or to run Python as an administrator. In order to activate developer mode, see this article: https://docs.microsoft.com/en-us/windows/apps/get-started/enable-your-device-for-development\n",
      "  warnings.warn(message)\n",
      "Xet Storage is enabled for this repo, but the 'hf_xet' package is not installed. Falling back to regular HTTP download. For better performance, install the package with: `pip install huggingface_hub[hf_xet]` or `pip install hf_xet`\n"
     ]
    },
    {
     "name": "stdout",
     "output_type": "stream",
     "text": [
      "Rutas configuradas y módulos importados correctamente.\n"
     ]
    }
   ],
   "source": [
    "import sys\n",
    "from pathlib import Path\n",
    "\n",
    "\n",
    "project_root = Path.cwd().parent\n",
    "\n",
    "\n",
    "if str(project_root) not in sys.path:\n",
    "    sys.path.append(str(project_root))\n",
    "\n",
    "from src.text_utils import crear_input_oferta, crear_input_cv\n",
    "from sentence_transformers import SentenceTransformer, util\n",
    "import pandas as pd\n",
    "\n",
    "model = SentenceTransformer('all-MiniLM-L6-v2')\n",
    "print(\"Rutas configuradas y módulos importados correctamente.\")"
   ]
  },
  {
   "cell_type": "code",
   "execution_count": 4,
   "id": "b969409e",
   "metadata": {},
   "outputs": [
    {
     "name": "stdout",
     "output_type": "stream",
     "text": [
      "Datos cargados correctamente.\n",
      "Cargando modelo de embeddings...\n",
      "Modelo baseline cargado.\n"
     ]
    }
   ],
   "source": [
    "# Carga de los datos procesados\n",
    "try:\n",
    "    offers_df = pd.read_csv(project_root / 'data/01_processed/offers_processed.csv')\n",
    "    cvs_df = pd.read_csv(project_root / 'data/01_processed/cvs_processed.csv')\n",
    "    print(\"Datos cargados correctamente.\")\n",
    "except FileNotFoundError as e:\n",
    "    print(f\"Error: No se pudo encontrar el archivo {e.filename}. Asegúrate de que la estructura de carpetas es correcta.\")\n",
    "\n",
    "# Carga del modelo de embeddings para el baseline\n",
    "print(\"Cargando modelo de embeddings...\")\n",
    "baseline_model = SentenceTransformer('all-MiniLM-L6-v2')\n",
    "print(\"Modelo baseline cargado.\")"
   ]
  },
  {
   "cell_type": "code",
   "execution_count": 5,
   "id": "b4286b1e",
   "metadata": {},
   "outputs": [],
   "source": [
    "def get_baseline_score(offer_row, cv_row, model):\n",
    "    \"\"\"\n",
    "    Calcula la similitud del coseno entre una oferta y un CV usando un modelo de SentenceTransformer.\n",
    "    \n",
    "    Args:\n",
    "        offer_row (pd.Series): Una fila del DataFrame de ofertas.\n",
    "        cv_row (pd.Series): Una fila del DataFrame de CVs.\n",
    "        model (SentenceTransformer): El modelo de embeddings cargado.\n",
    "        \n",
    "    Returns:\n",
    "        float: El score de similitud del coseno (entre -1 y 1).\n",
    "    \"\"\"\n",
    "    # 1. Formatear los textos de entrada usando las utilidades de 'src'\n",
    "    offer_text = crear_input_oferta(offer_row)\n",
    "    cv_text = crear_input_cv(cv_row)\n",
    "    \n",
    "    # 2. Generar los embeddings (vectores)\n",
    "    offer_embedding = model.encode(offer_text, convert_to_tensor=True)\n",
    "    cv_embedding = model.encode(cv_text, convert_to_tensor=True)\n",
    "    \n",
    "    # 3. Calcular y devolver la similitud del coseno\n",
    "    cosine_score = util.cos_sim(offer_embedding, cv_embedding)\n",
    "    \n",
    "    return cosine_score.item()"
   ]
  },
  {
   "cell_type": "code",
   "execution_count": 6,
   "id": "cb30f994",
   "metadata": {},
   "outputs": [
    {
     "name": "stdout",
     "output_type": "stream",
     "text": [
      "--- Prueba del Baseline ---\n",
      "Oferta de ejemplo (ID): 921716\n",
      "CV de ejemplo (ID): cand_0\n",
      "\n",
      "Score de Similitud del Coseno: 0.3315\n"
     ]
    }
   ],
   "source": [
    "# Coge un ejemplo para probar que todo funciona\n",
    "sample_offer = offers_df.iloc[0]\n",
    "sample_cv = cvs_df.iloc[0]\n",
    "\n",
    "# Calcula el score\n",
    "score = get_baseline_score(sample_offer, sample_cv, baseline_model)\n",
    "\n",
    "print(\"--- Prueba del Baseline ---\")\n",
    "print(f\"Oferta de ejemplo (ID): {sample_offer['job_id']}\")\n",
    "print(f\"CV de ejemplo (ID): {sample_cv['candidate_id']}\")\n",
    "print(f\"\\nScore de Similitud del Coseno: {score:.4f}\")"
   ]
  }
 ],
 "metadata": {
  "kernelspec": {
   "display_name": "venv",
   "language": "python",
   "name": "python3"
  },
  "language_info": {
   "codemirror_mode": {
    "name": "ipython",
    "version": 3
   },
   "file_extension": ".py",
   "mimetype": "text/x-python",
   "name": "python",
   "nbconvert_exporter": "python",
   "pygments_lexer": "ipython3",
   "version": "3.12.10"
  }
 },
 "nbformat": 4,
 "nbformat_minor": 5
}
