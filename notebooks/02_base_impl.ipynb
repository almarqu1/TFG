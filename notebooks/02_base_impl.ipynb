{
 "cells": [
  {
   "cell_type": "code",
   "execution_count": null,
   "id": "129137ac",
   "metadata": {},
   "outputs": [],
   "source": [
    "import sys\n",
    "from pathlib import Path\n",
    "\n",
    "\n",
    "project_root = Path.cwd().parent\n",
    "\n",
    "\n",
    "if str(project_root) not in sys.path:\n",
    "    sys.path.append(str(project_root))\n",
    "\n",
    "from src.text_utils import crear_input_oferta, crear_input_cv\n",
    "from sentence_transformers import SentenceTransformer, util\n",
    "import pandas as pd\n",
    "\n",
    "model = SentenceTransformer('all-MiniLM-L6-v2')\n",
    "print(\"Rutas configuradas y módulos importados correctamente.\")"
   ]
  },
  {
   "cell_type": "code",
   "execution_count": null,
   "id": "b4286b1e",
   "metadata": {},
   "outputs": [],
   "source": [
    "def get_baseline_score(offer_row, cv_row):\n",
    "    # Formatear el texto usando tu utilidad\n",
    "    offer_text = crear_input_oferta(offer_row)\n",
    "    cv_text = crear_input_cv(cv_row)\n",
    "    \n",
    "    # Generar los embeddings\n",
    "    offer_embedding = model.encode(offer_text, convert_to_tensor=True)\n",
    "    cv_embedding = model.encode(cv_text, convert_to_tensor=True)\n",
    "    \n",
    "    # Calcular similitud del coseno\n",
    "    cosine_score = util.cos_sim(offer_embedding, cv_embedding)\n",
    "    return cosine_score.item()"
   ]
  },
  {
   "cell_type": "code",
   "execution_count": null,
   "id": "b969409e",
   "metadata": {},
   "outputs": [],
   "source": [
    "# Carga de los datos procesados\n",
    "try:\n",
    "    offers_df = pd.read_csv(project_root / 'data/01_processed/offers_processed.csv')\n",
    "    cvs_df = pd.read_csv(project_root / 'data/01_processed/cvs_processed.csv')\n",
    "    print(\"Datos cargados correctamente.\")\n",
    "except FileNotFoundError as e:\n",
    "    print(f\"Error: No se pudo encontrar el archivo {e.filename}. Asegúrate de que la estructura de carpetas es correcta.\")\n",
    "\n",
    "# Carga del modelo de embeddings para el baseline\n",
    "print(\"Cargando modelo de embeddings...\")\n",
    "baseline_model = SentenceTransformer('all-MiniLM-L6-v2')\n",
    "print(\"Modelo baseline cargado.\")"
   ]
  }
 ],
 "metadata": {
  "kernelspec": {
   "display_name": "venv",
   "language": "python",
   "name": "python3"
  },
  "language_info": {
   "codemirror_mode": {
    "name": "ipython",
    "version": 3
   },
   "file_extension": ".py",
   "mimetype": "text/x-python",
   "name": "python",
   "nbconvert_exporter": "python",
   "pygments_lexer": "ipython3",
   "version": "3.12.10"
  }
 },
 "nbformat": 4,
 "nbformat_minor": 5
}
